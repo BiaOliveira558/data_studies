{
 "cells": [
  {
   "cell_type": "code",
   "execution_count": 7,
   "id": "81b73210-02fb-4c00-a587-140fd00a4d6e",
   "metadata": {},
   "outputs": [],
   "source": [
    "def amplitude(lista):\n",
    "    maxValue = max(lista)\n",
    "    minValue = min(lista)\n",
    "    ampli = maxValue - minValue\n",
    "    return ampli"
   ]
  },
  {
   "cell_type": "code",
   "execution_count": 8,
   "id": "30eee04d-8fb9-4ef4-a387-a0a9eff99ed1",
   "metadata": {},
   "outputs": [
    {
     "name": "stdout",
     "output_type": "stream",
     "text": [
      "2\n"
     ]
    }
   ],
   "source": [
    "lista = [1,2,3]\n",
    "print(amplitude(lista))"
   ]
  },
  {
   "cell_type": "code",
   "execution_count": 9,
   "id": "79216c8a-5835-4b37-bf08-ad0076fedd45",
   "metadata": {},
   "outputs": [],
   "source": [
    "def printString(string):\n",
    "    for leters in string:\n",
    "        print(leters)"
   ]
  },
  {
   "cell_type": "code",
   "execution_count": 10,
   "id": "bcc35be9-7fb2-401d-9849-75965f7c06d2",
   "metadata": {},
   "outputs": [
    {
     "name": "stdout",
     "output_type": "stream",
     "text": [
      "p\n",
      "y\n",
      "t\n",
      "h\n",
      "o\n",
      "n\n"
     ]
    }
   ],
   "source": [
    "string = 'python'\n",
    "printString(string)"
   ]
  },
  {
   "cell_type": "code",
   "execution_count": 12,
   "id": "2776df2d-dd22-4fd3-ad55-96d825916373",
   "metadata": {},
   "outputs": [],
   "source": [
    "def preco(carga):\n",
    "    if carga <= 10:\n",
    "        return 50\n",
    "    elif 11 <= carga <= 20:\n",
    "        return 80\n",
    "    else:\n",
    "        return 'nao aceito'"
   ]
  },
  {
   "cell_type": "code",
   "execution_count": 17,
   "id": "88e49fdc-e92f-4a82-980e-fdffd2d30929",
   "metadata": {},
   "outputs": [
    {
     "name": "stdin",
     "output_type": "stream",
     "text": [
      " 10\n"
     ]
    },
    {
     "data": {
      "text/plain": [
       "50"
      ]
     },
     "execution_count": 17,
     "metadata": {},
     "output_type": "execute_result"
    }
   ],
   "source": [
    "carga = int(input())\n",
    "preco(carga)"
   ]
  },
  {
   "cell_type": "code",
   "execution_count": null,
   "id": "701340d2-5628-4f2d-b10a-1e117545294d",
   "metadata": {},
   "outputs": [],
   "source": []
  }
 ],
 "metadata": {
  "kernelspec": {
   "display_name": "Python 3 (ipykernel)",
   "language": "python",
   "name": "python3"
  },
  "language_info": {
   "codemirror_mode": {
    "name": "ipython",
    "version": 3
   },
   "file_extension": ".py",
   "mimetype": "text/x-python",
   "name": "python",
   "nbconvert_exporter": "python",
   "pygments_lexer": "ipython3",
   "version": "3.11.7"
  }
 },
 "nbformat": 4,
 "nbformat_minor": 5
}
